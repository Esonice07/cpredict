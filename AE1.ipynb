{
 "cells": [
  {
   "cell_type": "code",
   "execution_count": 2,
   "outputs": [
    {
     "name": "stderr",
     "output_type": "stream",
     "text": [
      "C:\\Users\\44785\\AppData\\Local\\Temp\\ipykernel_9728\\1378909909.py:20: FutureWarning: The frame.append method is deprecated and will be removed from pandas in a future version. Use pandas.concat instead.\n",
      "  crypto_data = crypto_data.append(cdf)\n",
      "C:\\Users\\44785\\AppData\\Local\\Temp\\ipykernel_9728\\1378909909.py:20: FutureWarning: The frame.append method is deprecated and will be removed from pandas in a future version. Use pandas.concat instead.\n",
      "  crypto_data = crypto_data.append(cdf)\n",
      "C:\\Users\\44785\\AppData\\Local\\Temp\\ipykernel_9728\\1378909909.py:20: FutureWarning: The frame.append method is deprecated and will be removed from pandas in a future version. Use pandas.concat instead.\n",
      "  crypto_data = crypto_data.append(cdf)\n",
      "C:\\Users\\44785\\AppData\\Local\\Temp\\ipykernel_9728\\1378909909.py:20: FutureWarning: The frame.append method is deprecated and will be removed from pandas in a future version. Use pandas.concat instead.\n",
      "  crypto_data = crypto_data.append(cdf)\n",
      "C:\\Users\\44785\\AppData\\Local\\Temp\\ipykernel_9728\\1378909909.py:20: FutureWarning: The frame.append method is deprecated and will be removed from pandas in a future version. Use pandas.concat instead.\n",
      "  crypto_data = crypto_data.append(cdf)\n",
      "C:\\Users\\44785\\AppData\\Local\\Temp\\ipykernel_9728\\1378909909.py:20: FutureWarning: The frame.append method is deprecated and will be removed from pandas in a future version. Use pandas.concat instead.\n",
      "  crypto_data = crypto_data.append(cdf)\n",
      "C:\\Users\\44785\\AppData\\Local\\Temp\\ipykernel_9728\\1378909909.py:20: FutureWarning: The frame.append method is deprecated and will be removed from pandas in a future version. Use pandas.concat instead.\n",
      "  crypto_data = crypto_data.append(cdf)\n",
      "C:\\Users\\44785\\AppData\\Local\\Temp\\ipykernel_9728\\1378909909.py:20: FutureWarning: The frame.append method is deprecated and will be removed from pandas in a future version. Use pandas.concat instead.\n",
      "  crypto_data = crypto_data.append(cdf)\n",
      "C:\\Users\\44785\\AppData\\Local\\Temp\\ipykernel_9728\\1378909909.py:20: FutureWarning: The frame.append method is deprecated and will be removed from pandas in a future version. Use pandas.concat instead.\n",
      "  crypto_data = crypto_data.append(cdf)\n",
      "C:\\Users\\44785\\AppData\\Local\\Temp\\ipykernel_9728\\1378909909.py:20: FutureWarning: The frame.append method is deprecated and will be removed from pandas in a future version. Use pandas.concat instead.\n",
      "  crypto_data = crypto_data.append(cdf)\n",
      "C:\\Users\\44785\\AppData\\Local\\Temp\\ipykernel_9728\\1378909909.py:20: FutureWarning: The frame.append method is deprecated and will be removed from pandas in a future version. Use pandas.concat instead.\n",
      "  crypto_data = crypto_data.append(cdf)\n",
      "C:\\Users\\44785\\AppData\\Local\\Temp\\ipykernel_9728\\1378909909.py:20: FutureWarning: The frame.append method is deprecated and will be removed from pandas in a future version. Use pandas.concat instead.\n",
      "  crypto_data = crypto_data.append(cdf)\n",
      "C:\\Users\\44785\\AppData\\Local\\Temp\\ipykernel_9728\\1378909909.py:20: FutureWarning: The frame.append method is deprecated and will be removed from pandas in a future version. Use pandas.concat instead.\n",
      "  crypto_data = crypto_data.append(cdf)\n",
      "C:\\Users\\44785\\AppData\\Local\\Temp\\ipykernel_9728\\1378909909.py:20: FutureWarning: The frame.append method is deprecated and will be removed from pandas in a future version. Use pandas.concat instead.\n",
      "  crypto_data = crypto_data.append(cdf)\n",
      "C:\\Users\\44785\\AppData\\Local\\Temp\\ipykernel_9728\\1378909909.py:20: FutureWarning: The frame.append method is deprecated and will be removed from pandas in a future version. Use pandas.concat instead.\n",
      "  crypto_data = crypto_data.append(cdf)\n",
      "C:\\Users\\44785\\AppData\\Local\\Temp\\ipykernel_9728\\1378909909.py:20: FutureWarning: The frame.append method is deprecated and will be removed from pandas in a future version. Use pandas.concat instead.\n",
      "  crypto_data = crypto_data.append(cdf)\n",
      "C:\\Users\\44785\\AppData\\Local\\Temp\\ipykernel_9728\\1378909909.py:20: FutureWarning: The frame.append method is deprecated and will be removed from pandas in a future version. Use pandas.concat instead.\n",
      "  crypto_data = crypto_data.append(cdf)\n",
      "C:\\Users\\44785\\AppData\\Local\\Temp\\ipykernel_9728\\1378909909.py:20: FutureWarning: The frame.append method is deprecated and will be removed from pandas in a future version. Use pandas.concat instead.\n",
      "  crypto_data = crypto_data.append(cdf)\n",
      "C:\\Users\\44785\\AppData\\Local\\Temp\\ipykernel_9728\\1378909909.py:20: FutureWarning: The frame.append method is deprecated and will be removed from pandas in a future version. Use pandas.concat instead.\n",
      "  crypto_data = crypto_data.append(cdf)\n",
      "C:\\Users\\44785\\AppData\\Local\\Temp\\ipykernel_9728\\1378909909.py:20: FutureWarning: The frame.append method is deprecated and will be removed from pandas in a future version. Use pandas.concat instead.\n",
      "  crypto_data = crypto_data.append(cdf)\n",
      "C:\\Users\\44785\\AppData\\Local\\Temp\\ipykernel_9728\\1378909909.py:20: FutureWarning: The frame.append method is deprecated and will be removed from pandas in a future version. Use pandas.concat instead.\n",
      "  crypto_data = crypto_data.append(cdf)\n",
      "C:\\Users\\44785\\AppData\\Local\\Temp\\ipykernel_9728\\1378909909.py:20: FutureWarning: The frame.append method is deprecated and will be removed from pandas in a future version. Use pandas.concat instead.\n",
      "  crypto_data = crypto_data.append(cdf)\n",
      "C:\\Users\\44785\\AppData\\Local\\Temp\\ipykernel_9728\\1378909909.py:20: FutureWarning: The frame.append method is deprecated and will be removed from pandas in a future version. Use pandas.concat instead.\n",
      "  crypto_data = crypto_data.append(cdf)\n",
      "C:\\Users\\44785\\AppData\\Local\\Temp\\ipykernel_9728\\1378909909.py:20: FutureWarning: The frame.append method is deprecated and will be removed from pandas in a future version. Use pandas.concat instead.\n",
      "  crypto_data = crypto_data.append(cdf)\n",
      "C:\\Users\\44785\\AppData\\Local\\Temp\\ipykernel_9728\\1378909909.py:20: FutureWarning: The frame.append method is deprecated and will be removed from pandas in a future version. Use pandas.concat instead.\n",
      "  crypto_data = crypto_data.append(cdf)\n"
     ]
    },
    {
     "data": {
      "text/plain": "                  Open        High         Low       Close    Volume  \\\nDate                                                                   \n2014-09-17  465.864014  468.174011  452.421997  457.334015  21056800   \n2014-09-18  456.859985  456.859985  413.104004  424.440002  34483200   \n2014-09-19  424.102997  427.834991  384.532013  394.795990  37919700   \n2014-09-20  394.673004  423.295990  389.882996  408.903992  36863600   \n2014-09-21  408.084991  412.425995  393.181000  398.821014  26580100   \n...                ...         ...         ...         ...       ...   \n2022-05-18   32.039604   32.178993   29.697334   29.697334  57969635   \n2022-05-19   29.696484   31.131544   29.642788   30.920237  91229364   \n2022-05-20   30.916172   31.203316   29.294285   29.777079  64290536   \n2022-05-21   29.773373   30.272972   29.563732   30.088434  28410998   \n2022-05-22   30.086975   30.888557   29.985657   30.797441  28634477   \n\n                 name symbol  \nDate                          \n2014-09-17    Bitcoin    BTC  \n2014-09-18    Bitcoin    BTC  \n2014-09-19    Bitcoin    BTC  \n2014-09-20    Bitcoin    BTC  \n2014-09-21    Bitcoin    BTC  \n...               ...    ...  \n2022-05-18  FTX Token    FTT  \n2022-05-19  FTX Token    FTT  \n2022-05-20  FTX Token    FTT  \n2022-05-21  FTX Token    FTT  \n2022-05-22  FTX Token    FTT  \n\n[31727 rows x 7 columns]",
      "text/html": "<div>\n<style scoped>\n    .dataframe tbody tr th:only-of-type {\n        vertical-align: middle;\n    }\n\n    .dataframe tbody tr th {\n        vertical-align: top;\n    }\n\n    .dataframe thead th {\n        text-align: right;\n    }\n</style>\n<table border=\"1\" class=\"dataframe\">\n  <thead>\n    <tr style=\"text-align: right;\">\n      <th></th>\n      <th>Open</th>\n      <th>High</th>\n      <th>Low</th>\n      <th>Close</th>\n      <th>Volume</th>\n      <th>name</th>\n      <th>symbol</th>\n    </tr>\n    <tr>\n      <th>Date</th>\n      <th></th>\n      <th></th>\n      <th></th>\n      <th></th>\n      <th></th>\n      <th></th>\n      <th></th>\n    </tr>\n  </thead>\n  <tbody>\n    <tr>\n      <th>2014-09-17</th>\n      <td>465.864014</td>\n      <td>468.174011</td>\n      <td>452.421997</td>\n      <td>457.334015</td>\n      <td>21056800</td>\n      <td>Bitcoin</td>\n      <td>BTC</td>\n    </tr>\n    <tr>\n      <th>2014-09-18</th>\n      <td>456.859985</td>\n      <td>456.859985</td>\n      <td>413.104004</td>\n      <td>424.440002</td>\n      <td>34483200</td>\n      <td>Bitcoin</td>\n      <td>BTC</td>\n    </tr>\n    <tr>\n      <th>2014-09-19</th>\n      <td>424.102997</td>\n      <td>427.834991</td>\n      <td>384.532013</td>\n      <td>394.795990</td>\n      <td>37919700</td>\n      <td>Bitcoin</td>\n      <td>BTC</td>\n    </tr>\n    <tr>\n      <th>2014-09-20</th>\n      <td>394.673004</td>\n      <td>423.295990</td>\n      <td>389.882996</td>\n      <td>408.903992</td>\n      <td>36863600</td>\n      <td>Bitcoin</td>\n      <td>BTC</td>\n    </tr>\n    <tr>\n      <th>2014-09-21</th>\n      <td>408.084991</td>\n      <td>412.425995</td>\n      <td>393.181000</td>\n      <td>398.821014</td>\n      <td>26580100</td>\n      <td>Bitcoin</td>\n      <td>BTC</td>\n    </tr>\n    <tr>\n      <th>...</th>\n      <td>...</td>\n      <td>...</td>\n      <td>...</td>\n      <td>...</td>\n      <td>...</td>\n      <td>...</td>\n      <td>...</td>\n    </tr>\n    <tr>\n      <th>2022-05-18</th>\n      <td>32.039604</td>\n      <td>32.178993</td>\n      <td>29.697334</td>\n      <td>29.697334</td>\n      <td>57969635</td>\n      <td>FTX Token</td>\n      <td>FTT</td>\n    </tr>\n    <tr>\n      <th>2022-05-19</th>\n      <td>29.696484</td>\n      <td>31.131544</td>\n      <td>29.642788</td>\n      <td>30.920237</td>\n      <td>91229364</td>\n      <td>FTX Token</td>\n      <td>FTT</td>\n    </tr>\n    <tr>\n      <th>2022-05-20</th>\n      <td>30.916172</td>\n      <td>31.203316</td>\n      <td>29.294285</td>\n      <td>29.777079</td>\n      <td>64290536</td>\n      <td>FTX Token</td>\n      <td>FTT</td>\n    </tr>\n    <tr>\n      <th>2022-05-21</th>\n      <td>29.773373</td>\n      <td>30.272972</td>\n      <td>29.563732</td>\n      <td>30.088434</td>\n      <td>28410998</td>\n      <td>FTX Token</td>\n      <td>FTT</td>\n    </tr>\n    <tr>\n      <th>2022-05-22</th>\n      <td>30.086975</td>\n      <td>30.888557</td>\n      <td>29.985657</td>\n      <td>30.797441</td>\n      <td>28634477</td>\n      <td>FTX Token</td>\n      <td>FTT</td>\n    </tr>\n  </tbody>\n</table>\n<p>31727 rows × 7 columns</p>\n</div>"
     },
     "execution_count": 2,
     "metadata": {},
     "output_type": "execute_result"
    }
   ],
   "source": [
    "import yfinance as yf\n",
    "import pandas as pd\n",
    "import matplotlib.pyplot as plt\n",
    "crypto_data = pd.DataFrame()\n",
    "\n",
    "crypto_symbols = ['BTC', 'ETH', 'LTC', 'DOGE', 'SOL', 'USDT', 'USDC', 'BNB', 'XRP', 'ADA', 'DAI', 'WTRX', 'DOT', 'HEX', 'TRX',\n",
    "                 'SHIB', 'LEO', 'WBTC', 'AVAX', 'YOUC', 'MATIC', 'UNI1', 'STETH', 'LTC', 'FTT']\n",
    "cryptocurrencies = ['Bitcoin', 'Ethereum', 'Litecoin', 'Dogecoin', 'Solana','Tether', 'USD Coin', 'Binance coin', 'XRP', 'Cardano',\n",
    "                   'Dai', 'Wrapped TRON', 'Polkadot', 'HEX', 'TRON', 'SHIBA INU', 'UNUS SED LEO', 'Wrapped Bitcoin', 'Avalanche',\n",
    "                   'yOUcash', 'Polygon', 'Uniswap', 'Lido stETH', 'Litecoin', 'FTX Token']\n",
    "\n",
    "for coins in crypto_symbols:\n",
    "    coin_index = crypto_symbols.index(coins)\n",
    "\n",
    "    yf_data = yf.Ticker(f'{coins}-USD').history(start='2014-01-01', end='2022-05-23', interval='1d')\n",
    "\n",
    "    cdf = pd.DataFrame(yf_data)\n",
    "    cdf['name'] = cryptocurrencies[coin_index]\n",
    "    cdf['symbol'] = coins\n",
    "    crypto_data = crypto_data.append(cdf)\n",
    "crypto_data.to_csv('yf_cryptodata.csv')\n",
    "crypto_data.drop('Dividends',axis=1, inplace=True)\n",
    "crypto_data.drop('Stock Splits',axis=1, inplace=True)\n",
    "crypto_data"
   ],
   "metadata": {
    "collapsed": false,
    "pycharm": {
     "name": "#%%\n"
    }
   }
  },
  {
   "cell_type": "code",
   "execution_count": 8,
   "outputs": [],
   "source": [],
   "metadata": {
    "collapsed": false,
    "pycharm": {
     "name": "#%%\n"
    }
   }
  },
  {
   "cell_type": "code",
   "execution_count": 3,
   "outputs": [
    {
     "name": "stderr",
     "output_type": "stream",
     "text": [
      "C:\\Users\\44785\\AppData\\Local\\Temp\\ipykernel_9728\\115666025.py:21: FutureWarning: The frame.append method is deprecated and will be removed from pandas in a future version. Use pandas.concat instead.\n",
      "  crypto_data = crypto_data.append(cdf)\n",
      "C:\\Users\\44785\\AppData\\Local\\Temp\\ipykernel_9728\\115666025.py:21: FutureWarning: The frame.append method is deprecated and will be removed from pandas in a future version. Use pandas.concat instead.\n",
      "  crypto_data = crypto_data.append(cdf)\n",
      "C:\\Users\\44785\\AppData\\Local\\Temp\\ipykernel_9728\\115666025.py:21: FutureWarning: The frame.append method is deprecated and will be removed from pandas in a future version. Use pandas.concat instead.\n",
      "  crypto_data = crypto_data.append(cdf)\n",
      "C:\\Users\\44785\\AppData\\Local\\Temp\\ipykernel_9728\\115666025.py:21: FutureWarning: The frame.append method is deprecated and will be removed from pandas in a future version. Use pandas.concat instead.\n",
      "  crypto_data = crypto_data.append(cdf)\n",
      "C:\\Users\\44785\\AppData\\Local\\Temp\\ipykernel_9728\\115666025.py:21: FutureWarning: The frame.append method is deprecated and will be removed from pandas in a future version. Use pandas.concat instead.\n",
      "  crypto_data = crypto_data.append(cdf)\n",
      "C:\\Users\\44785\\AppData\\Local\\Temp\\ipykernel_9728\\115666025.py:21: FutureWarning: The frame.append method is deprecated and will be removed from pandas in a future version. Use pandas.concat instead.\n",
      "  crypto_data = crypto_data.append(cdf)\n",
      "C:\\Users\\44785\\AppData\\Local\\Temp\\ipykernel_9728\\115666025.py:21: FutureWarning: The frame.append method is deprecated and will be removed from pandas in a future version. Use pandas.concat instead.\n",
      "  crypto_data = crypto_data.append(cdf)\n",
      "C:\\Users\\44785\\AppData\\Local\\Temp\\ipykernel_9728\\115666025.py:21: FutureWarning: The frame.append method is deprecated and will be removed from pandas in a future version. Use pandas.concat instead.\n",
      "  crypto_data = crypto_data.append(cdf)\n",
      "C:\\Users\\44785\\AppData\\Local\\Temp\\ipykernel_9728\\115666025.py:21: FutureWarning: The frame.append method is deprecated and will be removed from pandas in a future version. Use pandas.concat instead.\n",
      "  crypto_data = crypto_data.append(cdf)\n",
      "C:\\Users\\44785\\AppData\\Local\\Temp\\ipykernel_9728\\115666025.py:21: FutureWarning: The frame.append method is deprecated and will be removed from pandas in a future version. Use pandas.concat instead.\n",
      "  crypto_data = crypto_data.append(cdf)\n",
      "C:\\Users\\44785\\AppData\\Local\\Temp\\ipykernel_9728\\115666025.py:21: FutureWarning: The frame.append method is deprecated and will be removed from pandas in a future version. Use pandas.concat instead.\n",
      "  crypto_data = crypto_data.append(cdf)\n",
      "C:\\Users\\44785\\AppData\\Local\\Temp\\ipykernel_9728\\115666025.py:21: FutureWarning: The frame.append method is deprecated and will be removed from pandas in a future version. Use pandas.concat instead.\n",
      "  crypto_data = crypto_data.append(cdf)\n",
      "C:\\Users\\44785\\AppData\\Local\\Temp\\ipykernel_9728\\115666025.py:21: FutureWarning: The frame.append method is deprecated and will be removed from pandas in a future version. Use pandas.concat instead.\n",
      "  crypto_data = crypto_data.append(cdf)\n",
      "C:\\Users\\44785\\AppData\\Local\\Temp\\ipykernel_9728\\115666025.py:21: FutureWarning: The frame.append method is deprecated and will be removed from pandas in a future version. Use pandas.concat instead.\n",
      "  crypto_data = crypto_data.append(cdf)\n",
      "C:\\Users\\44785\\AppData\\Local\\Temp\\ipykernel_9728\\115666025.py:21: FutureWarning: The frame.append method is deprecated and will be removed from pandas in a future version. Use pandas.concat instead.\n",
      "  crypto_data = crypto_data.append(cdf)\n",
      "C:\\Users\\44785\\AppData\\Local\\Temp\\ipykernel_9728\\115666025.py:21: FutureWarning: The frame.append method is deprecated and will be removed from pandas in a future version. Use pandas.concat instead.\n",
      "  crypto_data = crypto_data.append(cdf)\n",
      "C:\\Users\\44785\\AppData\\Local\\Temp\\ipykernel_9728\\115666025.py:21: FutureWarning: The frame.append method is deprecated and will be removed from pandas in a future version. Use pandas.concat instead.\n",
      "  crypto_data = crypto_data.append(cdf)\n",
      "C:\\Users\\44785\\AppData\\Local\\Temp\\ipykernel_9728\\115666025.py:21: FutureWarning: The frame.append method is deprecated and will be removed from pandas in a future version. Use pandas.concat instead.\n",
      "  crypto_data = crypto_data.append(cdf)\n",
      "C:\\Users\\44785\\AppData\\Local\\Temp\\ipykernel_9728\\115666025.py:21: FutureWarning: The frame.append method is deprecated and will be removed from pandas in a future version. Use pandas.concat instead.\n",
      "  crypto_data = crypto_data.append(cdf)\n",
      "C:\\Users\\44785\\AppData\\Local\\Temp\\ipykernel_9728\\115666025.py:21: FutureWarning: The frame.append method is deprecated and will be removed from pandas in a future version. Use pandas.concat instead.\n",
      "  crypto_data = crypto_data.append(cdf)\n",
      "C:\\Users\\44785\\AppData\\Local\\Temp\\ipykernel_9728\\115666025.py:21: FutureWarning: The frame.append method is deprecated and will be removed from pandas in a future version. Use pandas.concat instead.\n",
      "  crypto_data = crypto_data.append(cdf)\n",
      "C:\\Users\\44785\\AppData\\Local\\Temp\\ipykernel_9728\\115666025.py:21: FutureWarning: The frame.append method is deprecated and will be removed from pandas in a future version. Use pandas.concat instead.\n",
      "  crypto_data = crypto_data.append(cdf)\n",
      "C:\\Users\\44785\\AppData\\Local\\Temp\\ipykernel_9728\\115666025.py:21: FutureWarning: The frame.append method is deprecated and will be removed from pandas in a future version. Use pandas.concat instead.\n",
      "  crypto_data = crypto_data.append(cdf)\n",
      "C:\\Users\\44785\\AppData\\Local\\Temp\\ipykernel_9728\\115666025.py:21: FutureWarning: The frame.append method is deprecated and will be removed from pandas in a future version. Use pandas.concat instead.\n",
      "  crypto_data = crypto_data.append(cdf)\n",
      "C:\\Users\\44785\\AppData\\Local\\Temp\\ipykernel_9728\\115666025.py:21: FutureWarning: The frame.append method is deprecated and will be removed from pandas in a future version. Use pandas.concat instead.\n",
      "  crypto_data = crypto_data.append(cdf)\n"
     ]
    },
    {
     "ename": "NameError",
     "evalue": "name 'X_train' is not defined",
     "output_type": "error",
     "traceback": [
      "\u001B[1;31m---------------------------------------------------------------------------\u001B[0m",
      "\u001B[1;31mNameError\u001B[0m                                 Traceback (most recent call last)",
      "Input \u001B[1;32mIn [3]\u001B[0m, in \u001B[0;36m<cell line: 26>\u001B[1;34m()\u001B[0m\n\u001B[0;32m     24\u001B[0m crypto_data\u001B[38;5;241m.\u001B[39mdrop(\u001B[38;5;124m'\u001B[39m\u001B[38;5;124mStock Splits\u001B[39m\u001B[38;5;124m'\u001B[39m, axis\u001B[38;5;241m=\u001B[39m\u001B[38;5;241m1\u001B[39m, inplace\u001B[38;5;241m=\u001B[39m\u001B[38;5;28;01mTrue\u001B[39;00m)\n\u001B[0;32m     25\u001B[0m \u001B[38;5;66;03m#check the number of train and test data\u001B[39;00m\n\u001B[1;32m---> 26\u001B[0m \u001B[38;5;28mprint\u001B[39m(\u001B[38;5;124m'\u001B[39m\u001B[38;5;130;01m\\n\u001B[39;00m\u001B[38;5;124m The total of training dataset\u001B[39m\u001B[38;5;124m'\u001B[39m,\u001B[43mX_train\u001B[49m\u001B[38;5;241m.\u001B[39mshape)\n\u001B[0;32m     27\u001B[0m \u001B[38;5;28mprint\u001B[39m(crypto_data\u001B[38;5;241m.\u001B[39mshape)\n\u001B[0;32m     28\u001B[0m crypto_data\n",
      "\u001B[1;31mNameError\u001B[0m: name 'X_train' is not defined"
     ]
    }
   ],
   "source": [
    "\n",
    "import yfinance as yf\n",
    "import pandas as pd\n",
    "import matplotlib.pyplot as plt\n",
    "dataframe = pd.DataFrame()\n",
    "\n",
    "crypto_symbols = ['BTC', 'ETH', 'LTC', 'DOGE', 'SOL', 'USDT', 'USDC', 'BNB', 'XRP', 'ADA', 'DAI', 'WTRX', 'DOT', 'HEX', 'TRX',\n",
    "                 'SHIB', 'LEO', 'WBTC', 'AVAX', 'YOUC', 'MATIC', 'UNI1', 'STETH', 'LTC', 'FTT']\n",
    "cryptocurrencies = ['Bitcoin', 'Ethereum', 'Litecoin', 'Dogecoin', 'Solana','Tether', 'USD Coin', 'Binance coin', 'XRP', 'Cardano',\n",
    "                   'Dai', 'Wrapped TRON', 'Polkadot', 'HEX', 'TRON', 'SHIBA INU', 'UNUS SED LEO', 'Wrapped Bitcoin', 'Avalanche',\n",
    "                   'yOUcash', 'Polygon', 'Uniswap', 'Lido stETH', 'Litecoin', 'FTX Token']\n",
    "\n",
    "for coins in crypto_symbols:\n",
    "    coin_index = crypto_symbols.index(coins)\n",
    "\n",
    "    yf_data = yf.Ticker(f'{coins}-USD').history(start='2014-01-01', end='2022-05-23', interval='1d')\n",
    "\n",
    "\n",
    "    cdf = pd.DataFrame(yf_data)\n",
    "    cdf['name'] = cryptocurrencies[coin_index]\n",
    "    cdf['symbol'] = coins\n",
    "    crypto_data = crypto_data.append(cdf)\n",
    "crypto_data.to_csv('yf_cryptodata.csv')\n",
    "crypto_data.drop('Dividends', axis=1, inplace=True)\n",
    "crypto_data.drop('Stock Splits', axis=1, inplace=True)\n",
    "#check the number of train and test data\n",
    "print('\\n The total of training dataset',X_train.shape)\n",
    "print(crypto_data.shape)\n",
    "crypto_data"
   ],
   "metadata": {
    "collapsed": false,
    "pycharm": {
     "name": "#%%\n"
    }
   }
  },
  {
   "cell_type": "code",
   "execution_count": 22,
   "outputs": [
    {
     "data": {
      "text/plain": "                  Open        High         Low       Close    Volume  \\\nDate                                                                   \n2014-09-17  465.864014  468.174011  452.421997  457.334015  21056800   \n2014-09-18  456.859985  456.859985  413.104004  424.440002  34483200   \n2014-09-19  424.102997  427.834991  384.532013  394.795990  37919700   \n2014-09-20  394.673004  423.295990  389.882996  408.903992  36863600   \n2014-09-21  408.084991  412.425995  393.181000  398.821014  26580100   \n...                ...         ...         ...         ...       ...   \n2022-05-18   32.039604   32.178993   29.697334   29.697334  57969635   \n2022-05-19   29.696484   31.131544   29.642788   30.920237  91229364   \n2022-05-20   30.916172   31.203316   29.294285   29.777079  64290536   \n2022-05-21   29.773373   30.272972   29.563732   30.088434  28410998   \n2022-05-22   30.086975   30.888557   29.985657   30.797441  28634477   \n\n                 name symbol  \nDate                          \n2014-09-17    Bitcoin    BTC  \n2014-09-18    Bitcoin    BTC  \n2014-09-19    Bitcoin    BTC  \n2014-09-20    Bitcoin    BTC  \n2014-09-21    Bitcoin    BTC  \n...               ...    ...  \n2022-05-18  FTX Token    FTT  \n2022-05-19  FTX Token    FTT  \n2022-05-20  FTX Token    FTT  \n2022-05-21  FTX Token    FTT  \n2022-05-22  FTX Token    FTT  \n\n[317270 rows x 7 columns]",
      "text/html": "<div>\n<style scoped>\n    .dataframe tbody tr th:only-of-type {\n        vertical-align: middle;\n    }\n\n    .dataframe tbody tr th {\n        vertical-align: top;\n    }\n\n    .dataframe thead th {\n        text-align: right;\n    }\n</style>\n<table border=\"1\" class=\"dataframe\">\n  <thead>\n    <tr style=\"text-align: right;\">\n      <th></th>\n      <th>Open</th>\n      <th>High</th>\n      <th>Low</th>\n      <th>Close</th>\n      <th>Volume</th>\n      <th>name</th>\n      <th>symbol</th>\n    </tr>\n    <tr>\n      <th>Date</th>\n      <th></th>\n      <th></th>\n      <th></th>\n      <th></th>\n      <th></th>\n      <th></th>\n      <th></th>\n    </tr>\n  </thead>\n  <tbody>\n    <tr>\n      <th>2014-09-17</th>\n      <td>465.864014</td>\n      <td>468.174011</td>\n      <td>452.421997</td>\n      <td>457.334015</td>\n      <td>21056800</td>\n      <td>Bitcoin</td>\n      <td>BTC</td>\n    </tr>\n    <tr>\n      <th>2014-09-18</th>\n      <td>456.859985</td>\n      <td>456.859985</td>\n      <td>413.104004</td>\n      <td>424.440002</td>\n      <td>34483200</td>\n      <td>Bitcoin</td>\n      <td>BTC</td>\n    </tr>\n    <tr>\n      <th>2014-09-19</th>\n      <td>424.102997</td>\n      <td>427.834991</td>\n      <td>384.532013</td>\n      <td>394.795990</td>\n      <td>37919700</td>\n      <td>Bitcoin</td>\n      <td>BTC</td>\n    </tr>\n    <tr>\n      <th>2014-09-20</th>\n      <td>394.673004</td>\n      <td>423.295990</td>\n      <td>389.882996</td>\n      <td>408.903992</td>\n      <td>36863600</td>\n      <td>Bitcoin</td>\n      <td>BTC</td>\n    </tr>\n    <tr>\n      <th>2014-09-21</th>\n      <td>408.084991</td>\n      <td>412.425995</td>\n      <td>393.181000</td>\n      <td>398.821014</td>\n      <td>26580100</td>\n      <td>Bitcoin</td>\n      <td>BTC</td>\n    </tr>\n    <tr>\n      <th>...</th>\n      <td>...</td>\n      <td>...</td>\n      <td>...</td>\n      <td>...</td>\n      <td>...</td>\n      <td>...</td>\n      <td>...</td>\n    </tr>\n    <tr>\n      <th>2022-05-18</th>\n      <td>32.039604</td>\n      <td>32.178993</td>\n      <td>29.697334</td>\n      <td>29.697334</td>\n      <td>57969635</td>\n      <td>FTX Token</td>\n      <td>FTT</td>\n    </tr>\n    <tr>\n      <th>2022-05-19</th>\n      <td>29.696484</td>\n      <td>31.131544</td>\n      <td>29.642788</td>\n      <td>30.920237</td>\n      <td>91229364</td>\n      <td>FTX Token</td>\n      <td>FTT</td>\n    </tr>\n    <tr>\n      <th>2022-05-20</th>\n      <td>30.916172</td>\n      <td>31.203316</td>\n      <td>29.294285</td>\n      <td>29.777079</td>\n      <td>64290536</td>\n      <td>FTX Token</td>\n      <td>FTT</td>\n    </tr>\n    <tr>\n      <th>2022-05-21</th>\n      <td>29.773373</td>\n      <td>30.272972</td>\n      <td>29.563732</td>\n      <td>30.088434</td>\n      <td>28410998</td>\n      <td>FTX Token</td>\n      <td>FTT</td>\n    </tr>\n    <tr>\n      <th>2022-05-22</th>\n      <td>30.086975</td>\n      <td>30.888557</td>\n      <td>29.985657</td>\n      <td>30.797441</td>\n      <td>28634477</td>\n      <td>FTX Token</td>\n      <td>FTT</td>\n    </tr>\n  </tbody>\n</table>\n<p>317270 rows × 7 columns</p>\n</div>"
     },
     "execution_count": 22,
     "metadata": {},
     "output_type": "execute_result"
    }
   ],
   "source": [
    "import numpy as np\n",
    "\n",
    "from sklearn.linear_model import LinearRegression\n",
    "def get_preds_lin_reg(df, target_col, N, pred_min, offset):\n",
    "    \"\"\"\n",
    "    Given a dataframe, get prediction at each timestep\n",
    "    Inputs\n",
    "        df         : dataframe with the values you want to predict\n",
    "        target_col : name of the column you want to predict\n",
    "        N          : use previous N values to do prediction\n",
    "        pred_min   : all predictions should be >= pred_min\n",
    "        offset     : for df we only do predictions for df[offset:]\n",
    "    Outputs\n",
    "        pred_list  : the predictions for target_col\n",
    "    \"\"\"\n",
    "    # Create linear regression object\n",
    "    regr = LinearRegression(fit_intercept=True)\n",
    "    pred_list = []\n",
    "    for i in range(offset, len(df['adj_close'])):\n",
    "        X_train = np.array(range(len(df['adj_close'][i-N:i])))\n",
    "        y_train = np.array(df['adj_close'][i-N:i])\n",
    "        X_train = X_train.reshape(-1, 1)\n",
    "        y_train = y_train.reshape(-1, 1)\n",
    "        regr.fit(X_train, y_train)            # Train the model\n",
    "        pred = regr.predict(N)\n",
    "\n",
    "        pred_list.append(pred[0][0])\n",
    "\n",
    "    # If the values are < pred_min, set it to be pred_min\n",
    "    pred_list = np.array(pred_list)\n",
    "    pred_list[pred_list < pred_min] = pred_min\n",
    "\n",
    "    return pred_list\n",
    "crypto_data"
   ],
   "metadata": {
    "collapsed": false,
    "pycharm": {
     "name": "#%%\n"
    }
   }
  },
  {
   "cell_type": "code",
   "execution_count": 18,
   "outputs": [
    {
     "name": "stderr",
     "output_type": "stream",
     "text": [
      "C:\\Users\\44785\\AppData\\Local\\Temp\\ipykernel_9728\\3928015503.py:24: FutureWarning: The frame.append method is deprecated and will be removed from pandas in a future version. Use pandas.concat instead.\n",
      "  crypto_data = crypto_data.append(cdf)\n",
      "C:\\Users\\44785\\AppData\\Local\\Temp\\ipykernel_9728\\3928015503.py:24: FutureWarning: The frame.append method is deprecated and will be removed from pandas in a future version. Use pandas.concat instead.\n",
      "  crypto_data = crypto_data.append(cdf)\n",
      "C:\\Users\\44785\\AppData\\Local\\Temp\\ipykernel_9728\\3928015503.py:24: FutureWarning: The frame.append method is deprecated and will be removed from pandas in a future version. Use pandas.concat instead.\n",
      "  crypto_data = crypto_data.append(cdf)\n",
      "C:\\Users\\44785\\AppData\\Local\\Temp\\ipykernel_9728\\3928015503.py:24: FutureWarning: The frame.append method is deprecated and will be removed from pandas in a future version. Use pandas.concat instead.\n",
      "  crypto_data = crypto_data.append(cdf)\n",
      "C:\\Users\\44785\\AppData\\Local\\Temp\\ipykernel_9728\\3928015503.py:24: FutureWarning: The frame.append method is deprecated and will be removed from pandas in a future version. Use pandas.concat instead.\n",
      "  crypto_data = crypto_data.append(cdf)\n",
      "C:\\Users\\44785\\AppData\\Local\\Temp\\ipykernel_9728\\3928015503.py:24: FutureWarning: The frame.append method is deprecated and will be removed from pandas in a future version. Use pandas.concat instead.\n",
      "  crypto_data = crypto_data.append(cdf)\n",
      "C:\\Users\\44785\\AppData\\Local\\Temp\\ipykernel_9728\\3928015503.py:24: FutureWarning: The frame.append method is deprecated and will be removed from pandas in a future version. Use pandas.concat instead.\n",
      "  crypto_data = crypto_data.append(cdf)\n",
      "C:\\Users\\44785\\AppData\\Local\\Temp\\ipykernel_9728\\3928015503.py:24: FutureWarning: The frame.append method is deprecated and will be removed from pandas in a future version. Use pandas.concat instead.\n",
      "  crypto_data = crypto_data.append(cdf)\n",
      "C:\\Users\\44785\\AppData\\Local\\Temp\\ipykernel_9728\\3928015503.py:24: FutureWarning: The frame.append method is deprecated and will be removed from pandas in a future version. Use pandas.concat instead.\n",
      "  crypto_data = crypto_data.append(cdf)\n",
      "C:\\Users\\44785\\AppData\\Local\\Temp\\ipykernel_9728\\3928015503.py:24: FutureWarning: The frame.append method is deprecated and will be removed from pandas in a future version. Use pandas.concat instead.\n",
      "  crypto_data = crypto_data.append(cdf)\n",
      "C:\\Users\\44785\\AppData\\Local\\Temp\\ipykernel_9728\\3928015503.py:24: FutureWarning: The frame.append method is deprecated and will be removed from pandas in a future version. Use pandas.concat instead.\n",
      "  crypto_data = crypto_data.append(cdf)\n",
      "C:\\Users\\44785\\AppData\\Local\\Temp\\ipykernel_9728\\3928015503.py:24: FutureWarning: The frame.append method is deprecated and will be removed from pandas in a future version. Use pandas.concat instead.\n",
      "  crypto_data = crypto_data.append(cdf)\n",
      "C:\\Users\\44785\\AppData\\Local\\Temp\\ipykernel_9728\\3928015503.py:24: FutureWarning: The frame.append method is deprecated and will be removed from pandas in a future version. Use pandas.concat instead.\n",
      "  crypto_data = crypto_data.append(cdf)\n",
      "C:\\Users\\44785\\AppData\\Local\\Temp\\ipykernel_9728\\3928015503.py:24: FutureWarning: The frame.append method is deprecated and will be removed from pandas in a future version. Use pandas.concat instead.\n",
      "  crypto_data = crypto_data.append(cdf)\n",
      "C:\\Users\\44785\\AppData\\Local\\Temp\\ipykernel_9728\\3928015503.py:24: FutureWarning: The frame.append method is deprecated and will be removed from pandas in a future version. Use pandas.concat instead.\n",
      "  crypto_data = crypto_data.append(cdf)\n",
      "C:\\Users\\44785\\AppData\\Local\\Temp\\ipykernel_9728\\3928015503.py:24: FutureWarning: The frame.append method is deprecated and will be removed from pandas in a future version. Use pandas.concat instead.\n",
      "  crypto_data = crypto_data.append(cdf)\n",
      "C:\\Users\\44785\\AppData\\Local\\Temp\\ipykernel_9728\\3928015503.py:24: FutureWarning: The frame.append method is deprecated and will be removed from pandas in a future version. Use pandas.concat instead.\n",
      "  crypto_data = crypto_data.append(cdf)\n",
      "C:\\Users\\44785\\AppData\\Local\\Temp\\ipykernel_9728\\3928015503.py:24: FutureWarning: The frame.append method is deprecated and will be removed from pandas in a future version. Use pandas.concat instead.\n",
      "  crypto_data = crypto_data.append(cdf)\n",
      "C:\\Users\\44785\\AppData\\Local\\Temp\\ipykernel_9728\\3928015503.py:24: FutureWarning: The frame.append method is deprecated and will be removed from pandas in a future version. Use pandas.concat instead.\n",
      "  crypto_data = crypto_data.append(cdf)\n",
      "C:\\Users\\44785\\AppData\\Local\\Temp\\ipykernel_9728\\3928015503.py:24: FutureWarning: The frame.append method is deprecated and will be removed from pandas in a future version. Use pandas.concat instead.\n",
      "  crypto_data = crypto_data.append(cdf)\n",
      "C:\\Users\\44785\\AppData\\Local\\Temp\\ipykernel_9728\\3928015503.py:24: FutureWarning: The frame.append method is deprecated and will be removed from pandas in a future version. Use pandas.concat instead.\n",
      "  crypto_data = crypto_data.append(cdf)\n",
      "C:\\Users\\44785\\AppData\\Local\\Temp\\ipykernel_9728\\3928015503.py:24: FutureWarning: The frame.append method is deprecated and will be removed from pandas in a future version. Use pandas.concat instead.\n",
      "  crypto_data = crypto_data.append(cdf)\n",
      "C:\\Users\\44785\\AppData\\Local\\Temp\\ipykernel_9728\\3928015503.py:24: FutureWarning: The frame.append method is deprecated and will be removed from pandas in a future version. Use pandas.concat instead.\n",
      "  crypto_data = crypto_data.append(cdf)\n",
      "C:\\Users\\44785\\AppData\\Local\\Temp\\ipykernel_9728\\3928015503.py:24: FutureWarning: The frame.append method is deprecated and will be removed from pandas in a future version. Use pandas.concat instead.\n",
      "  crypto_data = crypto_data.append(cdf)\n",
      "C:\\Users\\44785\\AppData\\Local\\Temp\\ipykernel_9728\\3928015503.py:24: FutureWarning: The frame.append method is deprecated and will be removed from pandas in a future version. Use pandas.concat instead.\n",
      "  crypto_data = crypto_data.append(cdf)\n"
     ]
    },
    {
     "data": {
      "text/plain": "                  Open        High         Low       Close    Volume  \\\nDate                                                                   \n2014-09-17  465.864014  468.174011  452.421997  457.334015  21056800   \n2014-09-18  456.859985  456.859985  413.104004  424.440002  34483200   \n2014-09-19  424.102997  427.834991  384.532013  394.795990  37919700   \n2014-09-20  394.673004  423.295990  389.882996  408.903992  36863600   \n2014-09-21  408.084991  412.425995  393.181000  398.821014  26580100   \n...                ...         ...         ...         ...       ...   \n2022-05-18   32.039604   32.178993   29.697334   29.697334  57969635   \n2022-05-19   29.696484   31.131544   29.642788   30.920237  91229364   \n2022-05-20   30.916172   31.203316   29.294285   29.777079  64290536   \n2022-05-21   29.773373   30.272972   29.563732   30.088434  28410998   \n2022-05-22   30.086975   30.888557   29.985657   30.797441  28634477   \n\n                 name symbol  \nDate                          \n2014-09-17    Bitcoin    BTC  \n2014-09-18    Bitcoin    BTC  \n2014-09-19    Bitcoin    BTC  \n2014-09-20    Bitcoin    BTC  \n2014-09-21    Bitcoin    BTC  \n...               ...    ...  \n2022-05-18  FTX Token    FTT  \n2022-05-19  FTX Token    FTT  \n2022-05-20  FTX Token    FTT  \n2022-05-21  FTX Token    FTT  \n2022-05-22  FTX Token    FTT  \n\n[317270 rows x 7 columns]",
      "text/html": "<div>\n<style scoped>\n    .dataframe tbody tr th:only-of-type {\n        vertical-align: middle;\n    }\n\n    .dataframe tbody tr th {\n        vertical-align: top;\n    }\n\n    .dataframe thead th {\n        text-align: right;\n    }\n</style>\n<table border=\"1\" class=\"dataframe\">\n  <thead>\n    <tr style=\"text-align: right;\">\n      <th></th>\n      <th>Open</th>\n      <th>High</th>\n      <th>Low</th>\n      <th>Close</th>\n      <th>Volume</th>\n      <th>name</th>\n      <th>symbol</th>\n    </tr>\n    <tr>\n      <th>Date</th>\n      <th></th>\n      <th></th>\n      <th></th>\n      <th></th>\n      <th></th>\n      <th></th>\n      <th></th>\n    </tr>\n  </thead>\n  <tbody>\n    <tr>\n      <th>2014-09-17</th>\n      <td>465.864014</td>\n      <td>468.174011</td>\n      <td>452.421997</td>\n      <td>457.334015</td>\n      <td>21056800</td>\n      <td>Bitcoin</td>\n      <td>BTC</td>\n    </tr>\n    <tr>\n      <th>2014-09-18</th>\n      <td>456.859985</td>\n      <td>456.859985</td>\n      <td>413.104004</td>\n      <td>424.440002</td>\n      <td>34483200</td>\n      <td>Bitcoin</td>\n      <td>BTC</td>\n    </tr>\n    <tr>\n      <th>2014-09-19</th>\n      <td>424.102997</td>\n      <td>427.834991</td>\n      <td>384.532013</td>\n      <td>394.795990</td>\n      <td>37919700</td>\n      <td>Bitcoin</td>\n      <td>BTC</td>\n    </tr>\n    <tr>\n      <th>2014-09-20</th>\n      <td>394.673004</td>\n      <td>423.295990</td>\n      <td>389.882996</td>\n      <td>408.903992</td>\n      <td>36863600</td>\n      <td>Bitcoin</td>\n      <td>BTC</td>\n    </tr>\n    <tr>\n      <th>2014-09-21</th>\n      <td>408.084991</td>\n      <td>412.425995</td>\n      <td>393.181000</td>\n      <td>398.821014</td>\n      <td>26580100</td>\n      <td>Bitcoin</td>\n      <td>BTC</td>\n    </tr>\n    <tr>\n      <th>...</th>\n      <td>...</td>\n      <td>...</td>\n      <td>...</td>\n      <td>...</td>\n      <td>...</td>\n      <td>...</td>\n      <td>...</td>\n    </tr>\n    <tr>\n      <th>2022-05-18</th>\n      <td>32.039604</td>\n      <td>32.178993</td>\n      <td>29.697334</td>\n      <td>29.697334</td>\n      <td>57969635</td>\n      <td>FTX Token</td>\n      <td>FTT</td>\n    </tr>\n    <tr>\n      <th>2022-05-19</th>\n      <td>29.696484</td>\n      <td>31.131544</td>\n      <td>29.642788</td>\n      <td>30.920237</td>\n      <td>91229364</td>\n      <td>FTX Token</td>\n      <td>FTT</td>\n    </tr>\n    <tr>\n      <th>2022-05-20</th>\n      <td>30.916172</td>\n      <td>31.203316</td>\n      <td>29.294285</td>\n      <td>29.777079</td>\n      <td>64290536</td>\n      <td>FTX Token</td>\n      <td>FTT</td>\n    </tr>\n    <tr>\n      <th>2022-05-21</th>\n      <td>29.773373</td>\n      <td>30.272972</td>\n      <td>29.563732</td>\n      <td>30.088434</td>\n      <td>28410998</td>\n      <td>FTX Token</td>\n      <td>FTT</td>\n    </tr>\n    <tr>\n      <th>2022-05-22</th>\n      <td>30.086975</td>\n      <td>30.888557</td>\n      <td>29.985657</td>\n      <td>30.797441</td>\n      <td>28634477</td>\n      <td>FTX Token</td>\n      <td>FTT</td>\n    </tr>\n  </tbody>\n</table>\n<p>317270 rows × 7 columns</p>\n</div>"
     },
     "execution_count": 18,
     "metadata": {},
     "output_type": "execute_result"
    }
   ],
   "source": [
    "import yfinance as yf\n",
    "import pandas as pd\n",
    "import matplotlib.pyplot as plt\n",
    "\n",
    "dataframe = pd.DataFrame()\n",
    "\n",
    "crypto_symbols = ['BTC', 'ETH', 'LTC', 'DOGE', 'SOL', 'USDT', 'USDC', 'BNB', 'XRP', 'ADA', 'DAI', 'WTRX', 'DOT', 'HEX',\n",
    "                  'TRX',\n",
    "                  'SHIB', 'LEO', 'WBTC', 'AVAX', 'YOUC', 'MATIC', 'UNI1', 'STETH', 'LTC', 'FTT']\n",
    "cryptocurrencies = ['Bitcoin', 'Ethereum', 'Litecoin', 'Dogecoin', 'Solana', 'Tether', 'USD Coin', 'Binance coin',\n",
    "                    'XRP', 'Cardano',\n",
    "                    'Dai', 'Wrapped TRON', 'Polkadot', 'HEX', 'TRON', 'SHIBA INU', 'UNUS SED LEO', 'Wrapped Bitcoin',\n",
    "                    'Avalanche',\n",
    "                    'yOUcash', 'Polygon', 'Uniswap', 'Lido stETH', 'Litecoin', 'FTX Token']\n",
    "\n",
    "for coins in crypto_symbols:\n",
    "    coin_index = crypto_symbols.index(coins)\n",
    "\n",
    "    yf_data = yf.Ticker(f'{coins}-USD').history(start='2014-01-01', end='2022-05-23', interval='1d')\n",
    "\n",
    "    cdf = pd.DataFrame(yf_data)\n",
    "    cdf['name'] = cryptocurrencies[coin_index]\n",
    "    cdf['symbol'] = coins\n",
    "    crypto_data = crypto_data.append(cdf)\n",
    "crypto_data.to_csv('yf_cryptodata.csv')\n",
    "crypto_data.drop('Dividends', axis=1, inplace=True)\n",
    "crypto_data.drop('Stock Splits', axis=1, inplace=True)\n",
    "crypto_data"
   ],
   "metadata": {
    "collapsed": false,
    "pycharm": {
     "name": "#%%\n"
    }
   }
  }
 ],
 "metadata": {
  "kernelspec": {
   "display_name": "Python 3",
   "language": "python",
   "name": "python3"
  },
  "language_info": {
   "codemirror_mode": {
    "name": "ipython",
    "version": 2
   },
   "file_extension": ".py",
   "mimetype": "text/x-python",
   "name": "python",
   "nbconvert_exporter": "python",
   "pygments_lexer": "ipython2",
   "version": "2.7.6"
  }
 },
 "nbformat": 4,
 "nbformat_minor": 0
}